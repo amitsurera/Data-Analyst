{
 "cells": [
  {
   "cell_type": "code",
   "execution_count": 8,
   "id": "7f6858f6-38ce-4ea1-815b-d945d20fbff0",
   "metadata": {},
   "outputs": [],
   "source": [
    "import pandas as pd\n",
    "import numpy as np"
   ]
  },
  {
   "cell_type": "markdown",
   "id": "aef1479e-6bb0-4021-972f-671231d5d60f",
   "metadata": {},
   "source": [
    "# 🟦 PART 1: Pandas Series – 15 Questions"
   ]
  },
  {
   "cell_type": "markdown",
   "id": "829f4306-7938-4a98-9b16-de50f91c2606",
   "metadata": {},
   "source": [
    "## 🔹 Basic Series Creation"
   ]
  },
  {
   "cell_type": "markdown",
   "id": "cb1735be-f21d-484b-87c8-ca3350ff0776",
   "metadata": {},
   "source": [
    "#### 1.\tCreate a Series from a list [10, 20, 30, 40]."
   ]
  },
  {
   "cell_type": "code",
   "execution_count": 14,
   "id": "f334c946-daa2-42f8-9604-d14ca5a97dbc",
   "metadata": {},
   "outputs": [
    {
     "data": {
      "text/plain": [
       "0    10\n",
       "1    20\n",
       "2    30\n",
       "3    40\n",
       "dtype: int64"
      ]
     },
     "execution_count": 14,
     "metadata": {},
     "output_type": "execute_result"
    }
   ],
   "source": [
    "series1 = pd.Series([10,20,30,40])\n",
    "series1"
   ]
  },
  {
   "cell_type": "markdown",
   "id": "6fe7de12-9bab-44f2-bca1-4fc79b026c54",
   "metadata": {},
   "source": [
    "#### 2.\tCreate a Series from a tuple ('a', 'b', 'c')."
   ]
  },
  {
   "cell_type": "code",
   "execution_count": 17,
   "id": "6b35bc85-2d91-4217-97e4-36d5636c9859",
   "metadata": {},
   "outputs": [
    {
     "data": {
      "text/plain": [
       "0    a\n",
       "1    b\n",
       "2    c\n",
       "dtype: object"
      ]
     },
     "execution_count": 17,
     "metadata": {},
     "output_type": "execute_result"
    }
   ],
   "source": [
    "series2 = pd.Series(('a','b','c'))\n",
    "series2"
   ]
  },
  {
   "cell_type": "markdown",
   "id": "c155a3ae-68ed-49a1-98c0-20e4d965e99e",
   "metadata": {},
   "source": [
    "#### 3.\tCreate a Series from a dictionary {'a': 1, 'b': 2, 'c': 3}."
   ]
  },
  {
   "cell_type": "code",
   "execution_count": 20,
   "id": "ccac05c3-847b-4527-89ff-2b07b3d21204",
   "metadata": {},
   "outputs": [
    {
     "data": {
      "text/plain": [
       "a    1\n",
       "b    2\n",
       "c    3\n",
       "dtype: int64"
      ]
     },
     "execution_count": 20,
     "metadata": {},
     "output_type": "execute_result"
    }
   ],
   "source": [
    "sereis3 = pd.Series({'a':1,'b':2, 'c':3})\n",
    "sereis3"
   ]
  },
  {
   "cell_type": "markdown",
   "id": "ffe2fc38-6f58-4802-a3b5-560d5d8c8ba0",
   "metadata": {},
   "source": [
    "#### 4.\tCreate a Series with custom index labels: ['x', 'y', 'z'] for values [100, 200, 300]."
   ]
  },
  {
   "cell_type": "code",
   "execution_count": 23,
   "id": "b69b8dba-3141-4148-8445-86ac7b47add7",
   "metadata": {},
   "outputs": [
    {
     "data": {
      "text/plain": [
       "x    100\n",
       "y    200\n",
       "z    300\n",
       "dtype: int64"
      ]
     },
     "execution_count": 23,
     "metadata": {},
     "output_type": "execute_result"
    }
   ],
   "source": [
    "sereies4 = pd.Series([100,200,300],index = ['x','y','z'])\n",
    "sereies4"
   ]
  },
  {
   "cell_type": "markdown",
   "id": "c00e6375-bc7d-4e9e-80e4-214cdf1d6611",
   "metadata": {},
   "source": [
    "#### 5.\tCreate a Series with default index using range(4)."
   ]
  },
  {
   "cell_type": "code",
   "execution_count": 26,
   "id": "7dd2fb91-f611-435b-b5cc-385abef2fa11",
   "metadata": {},
   "outputs": [
    {
     "data": {
      "text/plain": [
       "0    0\n",
       "1    1\n",
       "2    2\n",
       "3    3\n",
       "dtype: int64"
      ]
     },
     "execution_count": 26,
     "metadata": {},
     "output_type": "execute_result"
    }
   ],
   "source": [
    "sereis5 = pd.Series(range(4))\n",
    "sereis5"
   ]
  },
  {
   "cell_type": "markdown",
   "id": "a6d4892b-04b6-4e1e-b488-272acb37722b",
   "metadata": {},
   "source": [
    "## 🔹 Series Operations"
   ]
  },
  {
   "cell_type": "markdown",
   "id": "44ec4efe-4c01-4096-ae7c-75c570323726",
   "metadata": {},
   "source": [
    "#### 6.\tAdd two Series: [1, 2, 3] + [4, 5, 6]."
   ]
  },
  {
   "cell_type": "code",
   "execution_count": 30,
   "id": "342e5b15-57d3-43bb-bdb3-723a18f6f43b",
   "metadata": {},
   "outputs": [
    {
     "data": {
      "text/plain": [
       "0    5\n",
       "1    7\n",
       "2    9\n",
       "dtype: int64"
      ]
     },
     "execution_count": 30,
     "metadata": {},
     "output_type": "execute_result"
    }
   ],
   "source": [
    "series_a = pd.Series([1,2,3])\n",
    "series_b = pd.Series([4,5,6])\n",
    "series_a + series_b"
   ]
  },
  {
   "cell_type": "markdown",
   "id": "9fd4e3f4-b487-4443-9f87-00741a829ea1",
   "metadata": {},
   "source": [
    "#### 7.\tMultiply Series [2, 4, 6] by 3."
   ]
  },
  {
   "cell_type": "code",
   "execution_count": 33,
   "id": "709e1899-976c-4d94-baf2-48ccc9d64d21",
   "metadata": {},
   "outputs": [
    {
     "data": {
      "text/plain": [
       "0     6\n",
       "1    12\n",
       "2    18\n",
       "dtype: int64"
      ]
     },
     "execution_count": 33,
     "metadata": {},
     "output_type": "execute_result"
    }
   ],
   "source": [
    "multiply_sereis = pd.Series([2,4,6]) *3\n",
    "multiply_sereis"
   ]
  },
  {
   "cell_type": "markdown",
   "id": "e3ea0e68-5efe-45b6-9993-39cb317f3009",
   "metadata": {},
   "source": [
    "#### 8.\tAccess the second element of Series [10, 20, 30, 40]."
   ]
  },
  {
   "cell_type": "code",
   "execution_count": 36,
   "id": "31348185-ca03-4043-897d-57aee7ffea3c",
   "metadata": {},
   "outputs": [
    {
     "data": {
      "text/plain": [
       "20"
      ]
     },
     "execution_count": 36,
     "metadata": {},
     "output_type": "execute_result"
    }
   ],
   "source": [
    "second_series = pd.Series([10,20,30,40])\n",
    "second_series[1]"
   ]
  },
  {
   "cell_type": "markdown",
   "id": "2ad4919b-0fb2-4776-8c31-b332473786f0",
   "metadata": {},
   "source": [
    "#### 9.\tSlice the Series from index 1 to 3 (inclusive)."
   ]
  },
  {
   "cell_type": "code",
   "execution_count": 39,
   "id": "b708b124-1efd-4dbc-bffb-a6167a4e8344",
   "metadata": {},
   "outputs": [
    {
     "data": {
      "text/plain": [
       "1    20\n",
       "2    30\n",
       "3    40\n",
       "dtype: int64"
      ]
     },
     "execution_count": 39,
     "metadata": {},
     "output_type": "execute_result"
    }
   ],
   "source": [
    "slice_series = pd.Series([10, 20, 30, 40])\n",
    "slice_series[1:4]"
   ]
  },
  {
   "cell_type": "markdown",
   "id": "7a426fde-23f8-4672-ab10-8692b3cbd38f",
   "metadata": {},
   "source": [
    "#### 10. Check if 'b' is an index in the Series {'a': 1, 'b': 2, 'c': 3}."
   ]
  },
  {
   "cell_type": "code",
   "execution_count": 42,
   "id": "e055ef00-3e92-4d0a-9f69-cb7776a9df3f",
   "metadata": {},
   "outputs": [
    {
     "data": {
      "text/plain": [
       "True"
      ]
     },
     "execution_count": 42,
     "metadata": {},
     "output_type": "execute_result"
    }
   ],
   "source": [
    "series_10 = pd.Series({'a': 1, 'b': 2, 'c': 3})\n",
    "is_b_in_index = 'b' in series_10.index\n",
    "is_b_in_index"
   ]
  },
  {
   "cell_type": "markdown",
   "id": "548be5c7-3ca8-4ae7-a1e4-bb377e9f944d",
   "metadata": {},
   "source": [
    "## 🔹 Series Attributes & Methods"
   ]
  },
  {
   "cell_type": "markdown",
   "id": "72c588d2-e864-4952-af1f-803e76b2e9a2",
   "metadata": {},
   "source": [
    "#### 11. Get the values and index of a Series."
   ]
  },
  {
   "cell_type": "code",
   "execution_count": 46,
   "id": "01d90cc0-3eeb-4fa6-865e-6abf5c061fd8",
   "metadata": {},
   "outputs": [
    {
     "name": "stdout",
     "output_type": "stream",
     "text": [
      "[1 2 3]\n",
      "Index(['a', 'b', 'c'], dtype='object')\n"
     ]
    }
   ],
   "source": [
    "print(series_10.values)\n",
    "print(series_10.index)"
   ]
  },
  {
   "cell_type": "markdown",
   "id": "cb417523-b949-4602-a491-9990ada2e4c9",
   "metadata": {},
   "source": [
    "#### 12. Convert a Series to a list."
   ]
  },
  {
   "cell_type": "code",
   "execution_count": 49,
   "id": "088baa6c-ec67-4559-9972-1dff8cbd9040",
   "metadata": {},
   "outputs": [
    {
     "data": {
      "text/plain": [
       "[1, 2, 3]"
      ]
     },
     "execution_count": 49,
     "metadata": {},
     "output_type": "execute_result"
    }
   ],
   "source": [
    "series_10.tolist()"
   ]
  },
  {
   "cell_type": "markdown",
   "id": "9a294d10-74a8-4c04-86b6-f27b039ad777",
   "metadata": {},
   "source": [
    "#### 13. Find the max and min of Series [10, 20, 5, 3]."
   ]
  },
  {
   "cell_type": "code",
   "execution_count": 52,
   "id": "66a5fbae-fbe5-491c-a3f1-4078c45afef1",
   "metadata": {},
   "outputs": [
    {
     "name": "stdout",
     "output_type": "stream",
     "text": [
      "20\n",
      "3\n"
     ]
    }
   ],
   "source": [
    "series_13 = pd.Series([10,20,5,3])\n",
    "print(series_13.max())\n",
    "print(series_13.min())"
   ]
  },
  {
   "cell_type": "markdown",
   "id": "cc6bfd64-fd10-4547-acfa-e3fec6538a4a",
   "metadata": {},
   "source": [
    "#### 14. Sort a Series in descending order."
   ]
  },
  {
   "cell_type": "code",
   "execution_count": 55,
   "id": "26c6b774-290c-4fb7-89e9-1d417e419eeb",
   "metadata": {},
   "outputs": [
    {
     "data": {
      "text/plain": [
       "1    20\n",
       "0    10\n",
       "2     5\n",
       "3     3\n",
       "dtype: int64"
      ]
     },
     "execution_count": 55,
     "metadata": {},
     "output_type": "execute_result"
    }
   ],
   "source": [
    "series_13.sort_values(ascending=False)"
   ]
  },
  {
   "cell_type": "markdown",
   "id": "2b31e275-5213-4421-8641-491b5f10cb0f",
   "metadata": {},
   "source": [
    "#### 15. Apply a lambda function to square all elements in a Series."
   ]
  },
  {
   "cell_type": "code",
   "execution_count": 58,
   "id": "69007687-9643-4bbf-b6d8-c0c8bc0dc789",
   "metadata": {},
   "outputs": [
    {
     "data": {
      "text/plain": [
       "0    100\n",
       "1    400\n",
       "2     25\n",
       "3      9\n",
       "dtype: int64"
      ]
     },
     "execution_count": 58,
     "metadata": {},
     "output_type": "execute_result"
    }
   ],
   "source": [
    "series_13.apply(lambda x : x**2)"
   ]
  },
  {
   "cell_type": "markdown",
   "id": "4359e4ca-96b2-403a-b4fe-1c8c851687b2",
   "metadata": {},
   "source": [
    "# 🟨 PART 2: Creating DataFrames from Lists, Dicts, Arrays – 25 Questions"
   ]
  },
  {
   "cell_type": "markdown",
   "id": "a9c9c667-35c9-4794-b868-bb043493f236",
   "metadata": {},
   "source": [
    "## 🔹 From List of Lists"
   ]
  },
  {
   "cell_type": "markdown",
   "id": "fc6af05b-b0ca-4aff-a4e2-9f25302604a9",
   "metadata": {},
   "source": [
    "#### 1.\tCreate a DataFrame from [[1, 'A'], [2, 'B'], [3, 'C']] with columns 'ID', 'Grade'."
   ]
  },
  {
   "cell_type": "code",
   "execution_count": 65,
   "id": "eb6c4ab9-f185-4fec-ba75-5464314905f1",
   "metadata": {},
   "outputs": [
    {
     "data": {
      "text/html": [
       "<div>\n",
       "<style scoped>\n",
       "    .dataframe tbody tr th:only-of-type {\n",
       "        vertical-align: middle;\n",
       "    }\n",
       "\n",
       "    .dataframe tbody tr th {\n",
       "        vertical-align: top;\n",
       "    }\n",
       "\n",
       "    .dataframe thead th {\n",
       "        text-align: right;\n",
       "    }\n",
       "</style>\n",
       "<table border=\"1\" class=\"dataframe\">\n",
       "  <thead>\n",
       "    <tr style=\"text-align: right;\">\n",
       "      <th></th>\n",
       "      <th>ID</th>\n",
       "      <th>Grade</th>\n",
       "    </tr>\n",
       "  </thead>\n",
       "  <tbody>\n",
       "    <tr>\n",
       "      <th>0</th>\n",
       "      <td>1</td>\n",
       "      <td>A</td>\n",
       "    </tr>\n",
       "    <tr>\n",
       "      <th>1</th>\n",
       "      <td>2</td>\n",
       "      <td>B</td>\n",
       "    </tr>\n",
       "    <tr>\n",
       "      <th>2</th>\n",
       "      <td>3</td>\n",
       "      <td>C</td>\n",
       "    </tr>\n",
       "  </tbody>\n",
       "</table>\n",
       "</div>"
      ],
      "text/plain": [
       "   ID Grade\n",
       "0   1     A\n",
       "1   2     B\n",
       "2   3     C"
      ]
     },
     "execution_count": 65,
     "metadata": {},
     "output_type": "execute_result"
    }
   ],
   "source": [
    "dataFrame_1 = pd.DataFrame([[1, 'A'], [2, 'B'], [3, 'C']], columns=['ID', 'Grade'])\n",
    "dataFrame_1"
   ]
  },
  {
   "cell_type": "markdown",
   "id": "57d214ce-c02f-47f9-b360-93544eba9942",
   "metadata": {},
   "source": [
    "#### 2.\tCreate a DataFrame from a 2D list with 4 rows and 3 columns, and add custom column names."
   ]
  },
  {
   "cell_type": "code",
   "execution_count": 68,
   "id": "10bbe733-692a-4a1b-9d0f-4ea5d210b881",
   "metadata": {},
   "outputs": [
    {
     "data": {
      "text/html": [
       "<div>\n",
       "<style scoped>\n",
       "    .dataframe tbody tr th:only-of-type {\n",
       "        vertical-align: middle;\n",
       "    }\n",
       "\n",
       "    .dataframe tbody tr th {\n",
       "        vertical-align: top;\n",
       "    }\n",
       "\n",
       "    .dataframe thead th {\n",
       "        text-align: right;\n",
       "    }\n",
       "</style>\n",
       "<table border=\"1\" class=\"dataframe\">\n",
       "  <thead>\n",
       "    <tr style=\"text-align: right;\">\n",
       "      <th></th>\n",
       "      <th>X</th>\n",
       "      <th>Y</th>\n",
       "      <th>Z</th>\n",
       "    </tr>\n",
       "  </thead>\n",
       "  <tbody>\n",
       "    <tr>\n",
       "      <th>0</th>\n",
       "      <td>1</td>\n",
       "      <td>2</td>\n",
       "      <td>3</td>\n",
       "    </tr>\n",
       "    <tr>\n",
       "      <th>1</th>\n",
       "      <td>4</td>\n",
       "      <td>5</td>\n",
       "      <td>6</td>\n",
       "    </tr>\n",
       "    <tr>\n",
       "      <th>2</th>\n",
       "      <td>7</td>\n",
       "      <td>8</td>\n",
       "      <td>9</td>\n",
       "    </tr>\n",
       "    <tr>\n",
       "      <th>3</th>\n",
       "      <td>10</td>\n",
       "      <td>11</td>\n",
       "      <td>12</td>\n",
       "    </tr>\n",
       "  </tbody>\n",
       "</table>\n",
       "</div>"
      ],
      "text/plain": [
       "    X   Y   Z\n",
       "0   1   2   3\n",
       "1   4   5   6\n",
       "2   7   8   9\n",
       "3  10  11  12"
      ]
     },
     "execution_count": 68,
     "metadata": {},
     "output_type": "execute_result"
    }
   ],
   "source": [
    "dataframe_2 = pd.DataFrame([[1,2,3],[4,5,6],[7,8,9],[10,11,12]], columns=['X', 'Y', 'Z'])\n",
    "dataframe_2"
   ]
  },
  {
   "cell_type": "markdown",
   "id": "6e76e6aa-6f80-41ac-b48c-1a2b7e1ba893",
   "metadata": {},
   "source": [
    "#### 3.\tCreate a DataFrame from nested list with missing values (use None)."
   ]
  },
  {
   "cell_type": "code",
   "execution_count": 71,
   "id": "b0d1fc0b-b0e2-4084-9e5a-300131f516ef",
   "metadata": {},
   "outputs": [
    {
     "data": {
      "text/html": [
       "<div>\n",
       "<style scoped>\n",
       "    .dataframe tbody tr th:only-of-type {\n",
       "        vertical-align: middle;\n",
       "    }\n",
       "\n",
       "    .dataframe tbody tr th {\n",
       "        vertical-align: top;\n",
       "    }\n",
       "\n",
       "    .dataframe thead th {\n",
       "        text-align: right;\n",
       "    }\n",
       "</style>\n",
       "<table border=\"1\" class=\"dataframe\">\n",
       "  <thead>\n",
       "    <tr style=\"text-align: right;\">\n",
       "      <th></th>\n",
       "      <th>0</th>\n",
       "      <th>1</th>\n",
       "    </tr>\n",
       "  </thead>\n",
       "  <tbody>\n",
       "    <tr>\n",
       "      <th>0</th>\n",
       "      <td>1.0</td>\n",
       "      <td>2.0</td>\n",
       "    </tr>\n",
       "    <tr>\n",
       "      <th>1</th>\n",
       "      <td>3.0</td>\n",
       "      <td>NaN</td>\n",
       "    </tr>\n",
       "    <tr>\n",
       "      <th>2</th>\n",
       "      <td>NaN</td>\n",
       "      <td>4.0</td>\n",
       "    </tr>\n",
       "  </tbody>\n",
       "</table>\n",
       "</div>"
      ],
      "text/plain": [
       "     0    1\n",
       "0  1.0  2.0\n",
       "1  3.0  NaN\n",
       "2  NaN  4.0"
      ]
     },
     "execution_count": 71,
     "metadata": {},
     "output_type": "execute_result"
    }
   ],
   "source": [
    "dataFrame_3 = pd.DataFrame([[1, 2], [3, None], [None, 4]])\n",
    "dataFrame_3"
   ]
  },
  {
   "cell_type": "markdown",
   "id": "86de547d-713c-46a8-b76f-f61fe936e188",
   "metadata": {},
   "source": [
    "#### 4.\tCreate a DataFrame from list of lists and assign custom row index."
   ]
  },
  {
   "cell_type": "code",
   "execution_count": 76,
   "id": "7016763f-67a7-4ab7-9a72-35fc7fe16321",
   "metadata": {},
   "outputs": [
    {
     "data": {
      "text/html": [
       "<div>\n",
       "<style scoped>\n",
       "    .dataframe tbody tr th:only-of-type {\n",
       "        vertical-align: middle;\n",
       "    }\n",
       "\n",
       "    .dataframe tbody tr th {\n",
       "        vertical-align: top;\n",
       "    }\n",
       "\n",
       "    .dataframe thead th {\n",
       "        text-align: right;\n",
       "    }\n",
       "</style>\n",
       "<table border=\"1\" class=\"dataframe\">\n",
       "  <thead>\n",
       "    <tr style=\"text-align: right;\">\n",
       "      <th></th>\n",
       "      <th>Num</th>\n",
       "      <th>Char</th>\n",
       "    </tr>\n",
       "  </thead>\n",
       "  <tbody>\n",
       "    <tr>\n",
       "      <th>r1</th>\n",
       "      <td>1</td>\n",
       "      <td>A</td>\n",
       "    </tr>\n",
       "    <tr>\n",
       "      <th>r2</th>\n",
       "      <td>2</td>\n",
       "      <td>B</td>\n",
       "    </tr>\n",
       "  </tbody>\n",
       "</table>\n",
       "</div>"
      ],
      "text/plain": [
       "    Num Char\n",
       "r1    1    A\n",
       "r2    2    B"
      ]
     },
     "execution_count": 76,
     "metadata": {},
     "output_type": "execute_result"
    }
   ],
   "source": [
    "dataFrame_4 = pd.DataFrame([[1, 'A'], [2, 'B']], index=['r1', 'r2'], columns=['Num', 'Char'])\n",
    "dataFrame_4"
   ]
  },
  {
   "cell_type": "markdown",
   "id": "74d44269-a4a7-49b2-87eb-449c0c6c3899",
   "metadata": {},
   "source": [
    "#### 5.\tAccess the second row from the created DataFrame."
   ]
  },
  {
   "cell_type": "code",
   "execution_count": 79,
   "id": "6ec0ed1b-cf59-4c13-b547-34c87cb3a912",
   "metadata": {},
   "outputs": [
    {
     "data": {
      "text/plain": [
       "ID       2\n",
       "Grade    B\n",
       "Name: 1, dtype: object"
      ]
     },
     "execution_count": 79,
     "metadata": {},
     "output_type": "execute_result"
    }
   ],
   "source": [
    "dataFrame_1.iloc[1]"
   ]
  },
  {
   "cell_type": "markdown",
   "id": "4378bb76-3cfe-4f25-80b2-e6c772091dcc",
   "metadata": {},
   "source": [
    "## 🔹 From List of Dictionaries"
   ]
  },
  {
   "cell_type": "markdown",
   "id": "a2895eec-e9e3-4bcb-91c2-76f2b5621f45",
   "metadata": {},
   "source": [
    "#### 6.\tCreate a DataFrame from [{'a': 1, 'b': 2}, {'a': 3, 'b': 4}]."
   ]
  },
  {
   "cell_type": "code",
   "execution_count": 83,
   "id": "6c1aa97d-d88c-4f7b-bcaf-524162e656a7",
   "metadata": {},
   "outputs": [
    {
     "data": {
      "text/html": [
       "<div>\n",
       "<style scoped>\n",
       "    .dataframe tbody tr th:only-of-type {\n",
       "        vertical-align: middle;\n",
       "    }\n",
       "\n",
       "    .dataframe tbody tr th {\n",
       "        vertical-align: top;\n",
       "    }\n",
       "\n",
       "    .dataframe thead th {\n",
       "        text-align: right;\n",
       "    }\n",
       "</style>\n",
       "<table border=\"1\" class=\"dataframe\">\n",
       "  <thead>\n",
       "    <tr style=\"text-align: right;\">\n",
       "      <th></th>\n",
       "      <th>a</th>\n",
       "      <th>b</th>\n",
       "    </tr>\n",
       "  </thead>\n",
       "  <tbody>\n",
       "    <tr>\n",
       "      <th>0</th>\n",
       "      <td>1</td>\n",
       "      <td>2</td>\n",
       "    </tr>\n",
       "    <tr>\n",
       "      <th>1</th>\n",
       "      <td>3</td>\n",
       "      <td>4</td>\n",
       "    </tr>\n",
       "  </tbody>\n",
       "</table>\n",
       "</div>"
      ],
      "text/plain": [
       "   a  b\n",
       "0  1  2\n",
       "1  3  4"
      ]
     },
     "execution_count": 83,
     "metadata": {},
     "output_type": "execute_result"
    }
   ],
   "source": [
    "dataFrame_6 = pd.DataFrame([{'a': 1, 'b': 2}, {'a': 3, 'b': 4}])\n",
    "dataFrame_6"
   ]
  },
  {
   "cell_type": "markdown",
   "id": "010fc760-5dcc-4cb9-bcc5-ad0cc6a5adce",
   "metadata": {},
   "source": [
    "#### 7.\tCreate a DataFrame from list of dicts with missing keys."
   ]
  },
  {
   "cell_type": "code",
   "execution_count": 86,
   "id": "7a01de64-f02e-4991-bdd6-d4a784719151",
   "metadata": {},
   "outputs": [
    {
     "data": {
      "text/html": [
       "<div>\n",
       "<style scoped>\n",
       "    .dataframe tbody tr th:only-of-type {\n",
       "        vertical-align: middle;\n",
       "    }\n",
       "\n",
       "    .dataframe tbody tr th {\n",
       "        vertical-align: top;\n",
       "    }\n",
       "\n",
       "    .dataframe thead th {\n",
       "        text-align: right;\n",
       "    }\n",
       "</style>\n",
       "<table border=\"1\" class=\"dataframe\">\n",
       "  <thead>\n",
       "    <tr style=\"text-align: right;\">\n",
       "      <th></th>\n",
       "      <th>a</th>\n",
       "      <th>b</th>\n",
       "    </tr>\n",
       "  </thead>\n",
       "  <tbody>\n",
       "    <tr>\n",
       "      <th>0</th>\n",
       "      <td>1.0</td>\n",
       "      <td>NaN</td>\n",
       "    </tr>\n",
       "    <tr>\n",
       "      <th>1</th>\n",
       "      <td>NaN</td>\n",
       "      <td>2.0</td>\n",
       "    </tr>\n",
       "  </tbody>\n",
       "</table>\n",
       "</div>"
      ],
      "text/plain": [
       "     a    b\n",
       "0  1.0  NaN\n",
       "1  NaN  2.0"
      ]
     },
     "execution_count": 86,
     "metadata": {},
     "output_type": "execute_result"
    }
   ],
   "source": [
    "dataframe_7 = pd.DataFrame([{'a': 1}, {'b': 2}])\n",
    "dataframe_7"
   ]
  },
  {
   "cell_type": "markdown",
   "id": "fd12aa98-e88f-403f-b052-996a1b453cb8",
   "metadata": {},
   "source": [
    "#### 8.\tChange the column order in the DataFrame."
   ]
  },
  {
   "cell_type": "code",
   "execution_count": 89,
   "id": "291eb94c-120c-4d57-9361-8c445b60f208",
   "metadata": {},
   "outputs": [
    {
     "data": {
      "text/html": [
       "<div>\n",
       "<style scoped>\n",
       "    .dataframe tbody tr th:only-of-type {\n",
       "        vertical-align: middle;\n",
       "    }\n",
       "\n",
       "    .dataframe tbody tr th {\n",
       "        vertical-align: top;\n",
       "    }\n",
       "\n",
       "    .dataframe thead th {\n",
       "        text-align: right;\n",
       "    }\n",
       "</style>\n",
       "<table border=\"1\" class=\"dataframe\">\n",
       "  <thead>\n",
       "    <tr style=\"text-align: right;\">\n",
       "      <th></th>\n",
       "      <th>b</th>\n",
       "      <th>a</th>\n",
       "    </tr>\n",
       "  </thead>\n",
       "  <tbody>\n",
       "    <tr>\n",
       "      <th>0</th>\n",
       "      <td>2</td>\n",
       "      <td>1</td>\n",
       "    </tr>\n",
       "    <tr>\n",
       "      <th>1</th>\n",
       "      <td>4</td>\n",
       "      <td>3</td>\n",
       "    </tr>\n",
       "  </tbody>\n",
       "</table>\n",
       "</div>"
      ],
      "text/plain": [
       "   b  a\n",
       "0  2  1\n",
       "1  4  3"
      ]
     },
     "execution_count": 89,
     "metadata": {},
     "output_type": "execute_result"
    }
   ],
   "source": [
    "dataFrame_8 = dataFrame_6[['b', 'a']]\n",
    "dataFrame_8"
   ]
  },
  {
   "cell_type": "markdown",
   "id": "6c75942e-76f0-4393-aa12-dea4ce4e8da5",
   "metadata": {},
   "source": [
    "#### 9.\tCreate a DataFrame from list of dicts and rename the columns."
   ]
  },
  {
   "cell_type": "code",
   "execution_count": 92,
   "id": "2cb24f02-27ec-4cd1-b846-32c908c2c066",
   "metadata": {},
   "outputs": [
    {
     "data": {
      "text/html": [
       "<div>\n",
       "<style scoped>\n",
       "    .dataframe tbody tr th:only-of-type {\n",
       "        vertical-align: middle;\n",
       "    }\n",
       "\n",
       "    .dataframe tbody tr th {\n",
       "        vertical-align: top;\n",
       "    }\n",
       "\n",
       "    .dataframe thead th {\n",
       "        text-align: right;\n",
       "    }\n",
       "</style>\n",
       "<table border=\"1\" class=\"dataframe\">\n",
       "  <thead>\n",
       "    <tr style=\"text-align: right;\">\n",
       "      <th></th>\n",
       "      <th>A1</th>\n",
       "      <th>B1</th>\n",
       "    </tr>\n",
       "  </thead>\n",
       "  <tbody>\n",
       "    <tr>\n",
       "      <th>0</th>\n",
       "      <td>1</td>\n",
       "      <td>2</td>\n",
       "    </tr>\n",
       "    <tr>\n",
       "      <th>1</th>\n",
       "      <td>3</td>\n",
       "      <td>4</td>\n",
       "    </tr>\n",
       "  </tbody>\n",
       "</table>\n",
       "</div>"
      ],
      "text/plain": [
       "   A1  B1\n",
       "0   1   2\n",
       "1   3   4"
      ]
     },
     "execution_count": 92,
     "metadata": {},
     "output_type": "execute_result"
    }
   ],
   "source": [
    "dataFrame_9 = dataFrame_6.rename(columns={'a': 'A1', 'b': 'B1'})\n",
    "dataFrame_9"
   ]
  },
  {
   "cell_type": "markdown",
   "id": "fdcbf1dc-ffc3-43c1-8c21-5c8c01ce5321",
   "metadata": {},
   "source": [
    "#### 10. Access a specific cell (row 1, column 'a')."
   ]
  },
  {
   "cell_type": "code",
   "execution_count": 95,
   "id": "89a514da-849d-4428-8579-1141857a3c09",
   "metadata": {},
   "outputs": [
    {
     "data": {
      "text/plain": [
       "3"
      ]
     },
     "execution_count": 95,
     "metadata": {},
     "output_type": "execute_result"
    }
   ],
   "source": [
    "cell_value = dataFrame_6.loc[1, 'a']\n",
    "cell_value"
   ]
  },
  {
   "cell_type": "markdown",
   "id": "9837ada2-e05e-4c3d-8d71-be43b0ab2abe",
   "metadata": {},
   "source": [
    "## 🔹 From Dictionary of Lists"
   ]
  },
  {
   "cell_type": "markdown",
   "id": "e05a595d-de29-42af-bab9-9f51cc956343",
   "metadata": {},
   "source": [
    "#### 11.Create a DataFrame from:\n",
    "{\n",
    "    'Name': ['Alice', 'Bob'],\n",
    "    'Age': [25, 30]\n",
    "}"
   ]
  },
  {
   "cell_type": "code",
   "execution_count": 99,
   "id": "0e933d7c-0047-4b31-8332-3aba4e55269c",
   "metadata": {},
   "outputs": [
    {
     "data": {
      "text/html": [
       "<div>\n",
       "<style scoped>\n",
       "    .dataframe tbody tr th:only-of-type {\n",
       "        vertical-align: middle;\n",
       "    }\n",
       "\n",
       "    .dataframe tbody tr th {\n",
       "        vertical-align: top;\n",
       "    }\n",
       "\n",
       "    .dataframe thead th {\n",
       "        text-align: right;\n",
       "    }\n",
       "</style>\n",
       "<table border=\"1\" class=\"dataframe\">\n",
       "  <thead>\n",
       "    <tr style=\"text-align: right;\">\n",
       "      <th></th>\n",
       "      <th>Name</th>\n",
       "      <th>Age</th>\n",
       "    </tr>\n",
       "  </thead>\n",
       "  <tbody>\n",
       "    <tr>\n",
       "      <th>0</th>\n",
       "      <td>Alice</td>\n",
       "      <td>25</td>\n",
       "    </tr>\n",
       "    <tr>\n",
       "      <th>1</th>\n",
       "      <td>Bob</td>\n",
       "      <td>30</td>\n",
       "    </tr>\n",
       "  </tbody>\n",
       "</table>\n",
       "</div>"
      ],
      "text/plain": [
       "    Name  Age\n",
       "0  Alice   25\n",
       "1    Bob   30"
      ]
     },
     "execution_count": 99,
     "metadata": {},
     "output_type": "execute_result"
    }
   ],
   "source": [
    "df11 = pd.DataFrame({\n",
    "    'Name': ['Alice', 'Bob'],\n",
    "    'Age': [25, 30]\n",
    "})\n",
    "df11"
   ]
  },
  {
   "cell_type": "markdown",
   "id": "6286c504-6d6b-448f-9dd9-f0e61e69673e",
   "metadata": {},
   "source": [
    "#### 12. Add a new column 'City' with values ['Delhi', 'Mumbai']."
   ]
  },
  {
   "cell_type": "code",
   "execution_count": 102,
   "id": "22232f7e-94b1-421f-9981-45733f6bdc1d",
   "metadata": {},
   "outputs": [
    {
     "data": {
      "text/html": [
       "<div>\n",
       "<style scoped>\n",
       "    .dataframe tbody tr th:only-of-type {\n",
       "        vertical-align: middle;\n",
       "    }\n",
       "\n",
       "    .dataframe tbody tr th {\n",
       "        vertical-align: top;\n",
       "    }\n",
       "\n",
       "    .dataframe thead th {\n",
       "        text-align: right;\n",
       "    }\n",
       "</style>\n",
       "<table border=\"1\" class=\"dataframe\">\n",
       "  <thead>\n",
       "    <tr style=\"text-align: right;\">\n",
       "      <th></th>\n",
       "      <th>Name</th>\n",
       "      <th>Age</th>\n",
       "      <th>City</th>\n",
       "    </tr>\n",
       "  </thead>\n",
       "  <tbody>\n",
       "    <tr>\n",
       "      <th>0</th>\n",
       "      <td>Alice</td>\n",
       "      <td>25</td>\n",
       "      <td>Delhi</td>\n",
       "    </tr>\n",
       "    <tr>\n",
       "      <th>1</th>\n",
       "      <td>Bob</td>\n",
       "      <td>30</td>\n",
       "      <td>Mumbai</td>\n",
       "    </tr>\n",
       "  </tbody>\n",
       "</table>\n",
       "</div>"
      ],
      "text/plain": [
       "    Name  Age    City\n",
       "0  Alice   25   Delhi\n",
       "1    Bob   30  Mumbai"
      ]
     },
     "execution_count": 102,
     "metadata": {},
     "output_type": "execute_result"
    }
   ],
   "source": [
    "df11['City'] = ['Delhi', 'Mumbai']\n",
    "df11"
   ]
  },
  {
   "cell_type": "markdown",
   "id": "3d994d2a-28c1-4480-bb4c-f36b31ba48fe",
   "metadata": {},
   "source": [
    "#### 13. Change the index to ['emp1', 'emp2']."
   ]
  },
  {
   "cell_type": "code",
   "execution_count": 105,
   "id": "7aa7f476-8f6d-4b99-a756-75a2cb31fe29",
   "metadata": {},
   "outputs": [
    {
     "data": {
      "text/html": [
       "<div>\n",
       "<style scoped>\n",
       "    .dataframe tbody tr th:only-of-type {\n",
       "        vertical-align: middle;\n",
       "    }\n",
       "\n",
       "    .dataframe tbody tr th {\n",
       "        vertical-align: top;\n",
       "    }\n",
       "\n",
       "    .dataframe thead th {\n",
       "        text-align: right;\n",
       "    }\n",
       "</style>\n",
       "<table border=\"1\" class=\"dataframe\">\n",
       "  <thead>\n",
       "    <tr style=\"text-align: right;\">\n",
       "      <th></th>\n",
       "      <th>Name</th>\n",
       "      <th>Age</th>\n",
       "      <th>City</th>\n",
       "    </tr>\n",
       "  </thead>\n",
       "  <tbody>\n",
       "    <tr>\n",
       "      <th>emp1</th>\n",
       "      <td>Alice</td>\n",
       "      <td>25</td>\n",
       "      <td>Delhi</td>\n",
       "    </tr>\n",
       "    <tr>\n",
       "      <th>emp2</th>\n",
       "      <td>Bob</td>\n",
       "      <td>30</td>\n",
       "      <td>Mumbai</td>\n",
       "    </tr>\n",
       "  </tbody>\n",
       "</table>\n",
       "</div>"
      ],
      "text/plain": [
       "       Name  Age    City\n",
       "emp1  Alice   25   Delhi\n",
       "emp2    Bob   30  Mumbai"
      ]
     },
     "execution_count": 105,
     "metadata": {},
     "output_type": "execute_result"
    }
   ],
   "source": [
    "df11.index= ['emp1','emp2']\n",
    "df11"
   ]
  },
  {
   "cell_type": "markdown",
   "id": "3ed5ee7d-e1ba-4de7-afff-66070fcfe02e",
   "metadata": {},
   "source": [
    "#### 14. Get the shape of the DataFrame."
   ]
  },
  {
   "cell_type": "code",
   "execution_count": 108,
   "id": "541d5e1b-c7f7-4156-821c-577a21870e91",
   "metadata": {},
   "outputs": [
    {
     "data": {
      "text/plain": [
       "(2, 3)"
      ]
     },
     "execution_count": 108,
     "metadata": {},
     "output_type": "execute_result"
    }
   ],
   "source": [
    "df11.shape"
   ]
  },
  {
   "cell_type": "markdown",
   "id": "647712e8-d54a-4f19-8f01-ac8647ace743",
   "metadata": {},
   "source": [
    "#### 15. Drop the column 'Age'."
   ]
  },
  {
   "cell_type": "code",
   "execution_count": 111,
   "id": "085815ef-aa28-4f0d-88be-ea07e392a6bf",
   "metadata": {},
   "outputs": [
    {
     "data": {
      "text/html": [
       "<div>\n",
       "<style scoped>\n",
       "    .dataframe tbody tr th:only-of-type {\n",
       "        vertical-align: middle;\n",
       "    }\n",
       "\n",
       "    .dataframe tbody tr th {\n",
       "        vertical-align: top;\n",
       "    }\n",
       "\n",
       "    .dataframe thead th {\n",
       "        text-align: right;\n",
       "    }\n",
       "</style>\n",
       "<table border=\"1\" class=\"dataframe\">\n",
       "  <thead>\n",
       "    <tr style=\"text-align: right;\">\n",
       "      <th></th>\n",
       "      <th>Name</th>\n",
       "      <th>City</th>\n",
       "    </tr>\n",
       "  </thead>\n",
       "  <tbody>\n",
       "    <tr>\n",
       "      <th>emp1</th>\n",
       "      <td>Alice</td>\n",
       "      <td>Delhi</td>\n",
       "    </tr>\n",
       "    <tr>\n",
       "      <th>emp2</th>\n",
       "      <td>Bob</td>\n",
       "      <td>Mumbai</td>\n",
       "    </tr>\n",
       "  </tbody>\n",
       "</table>\n",
       "</div>"
      ],
      "text/plain": [
       "       Name    City\n",
       "emp1  Alice   Delhi\n",
       "emp2    Bob  Mumbai"
      ]
     },
     "execution_count": 111,
     "metadata": {},
     "output_type": "execute_result"
    }
   ],
   "source": [
    "df11.drop('Age',axis=1)"
   ]
  },
  {
   "cell_type": "markdown",
   "id": "3670e632-9988-41fa-98fc-6e17fc251c45",
   "metadata": {},
   "source": [
    "## 🔹 From NumPy Arrays"
   ]
  },
  {
   "cell_type": "markdown",
   "id": "fa037d58-54ff-4dc9-aef3-095598b0b53d",
   "metadata": {},
   "source": [
    "#### 16. Create a 2x3 numpy array and convert to DataFrame."
   ]
  },
  {
   "cell_type": "code",
   "execution_count": 117,
   "id": "0a32fac2-f0c0-410e-b957-cca0b058d520",
   "metadata": {},
   "outputs": [
    {
     "data": {
      "text/html": [
       "<div>\n",
       "<style scoped>\n",
       "    .dataframe tbody tr th:only-of-type {\n",
       "        vertical-align: middle;\n",
       "    }\n",
       "\n",
       "    .dataframe tbody tr th {\n",
       "        vertical-align: top;\n",
       "    }\n",
       "\n",
       "    .dataframe thead th {\n",
       "        text-align: right;\n",
       "    }\n",
       "</style>\n",
       "<table border=\"1\" class=\"dataframe\">\n",
       "  <thead>\n",
       "    <tr style=\"text-align: right;\">\n",
       "      <th></th>\n",
       "      <th>0</th>\n",
       "      <th>1</th>\n",
       "      <th>2</th>\n",
       "    </tr>\n",
       "  </thead>\n",
       "  <tbody>\n",
       "    <tr>\n",
       "      <th>0</th>\n",
       "      <td>1</td>\n",
       "      <td>2</td>\n",
       "      <td>3</td>\n",
       "    </tr>\n",
       "    <tr>\n",
       "      <th>1</th>\n",
       "      <td>4</td>\n",
       "      <td>5</td>\n",
       "      <td>6</td>\n",
       "    </tr>\n",
       "  </tbody>\n",
       "</table>\n",
       "</div>"
      ],
      "text/plain": [
       "   0  1  2\n",
       "0  1  2  3\n",
       "1  4  5  6"
      ]
     },
     "execution_count": 117,
     "metadata": {},
     "output_type": "execute_result"
    }
   ],
   "source": [
    "arr16 = np.array([[1,2,3], [4,5,6]])\n",
    "df16 = pd.DataFrame(arr16)\n",
    "df16"
   ]
  },
  {
   "cell_type": "markdown",
   "id": "4e6d41da-6127-4a41-bcec-7b3ba923b1c2",
   "metadata": {},
   "source": [
    "#### 17. Add column names to the DataFrame created from numpy array."
   ]
  },
  {
   "cell_type": "code",
   "execution_count": 120,
   "id": "e3292853-2b6a-4b53-9ffb-7aa73e7adaf8",
   "metadata": {},
   "outputs": [
    {
     "data": {
      "text/html": [
       "<div>\n",
       "<style scoped>\n",
       "    .dataframe tbody tr th:only-of-type {\n",
       "        vertical-align: middle;\n",
       "    }\n",
       "\n",
       "    .dataframe tbody tr th {\n",
       "        vertical-align: top;\n",
       "    }\n",
       "\n",
       "    .dataframe thead th {\n",
       "        text-align: right;\n",
       "    }\n",
       "</style>\n",
       "<table border=\"1\" class=\"dataframe\">\n",
       "  <thead>\n",
       "    <tr style=\"text-align: right;\">\n",
       "      <th></th>\n",
       "      <th>A</th>\n",
       "      <th>B</th>\n",
       "      <th>C</th>\n",
       "    </tr>\n",
       "  </thead>\n",
       "  <tbody>\n",
       "    <tr>\n",
       "      <th>0</th>\n",
       "      <td>1</td>\n",
       "      <td>2</td>\n",
       "      <td>3</td>\n",
       "    </tr>\n",
       "    <tr>\n",
       "      <th>1</th>\n",
       "      <td>4</td>\n",
       "      <td>5</td>\n",
       "      <td>6</td>\n",
       "    </tr>\n",
       "  </tbody>\n",
       "</table>\n",
       "</div>"
      ],
      "text/plain": [
       "   A  B  C\n",
       "0  1  2  3\n",
       "1  4  5  6"
      ]
     },
     "execution_count": 120,
     "metadata": {},
     "output_type": "execute_result"
    }
   ],
   "source": [
    "df17 = pd.DataFrame(arr16, columns=['A', 'B', 'C'])\n",
    "df17"
   ]
  },
  {
   "cell_type": "markdown",
   "id": "cd27f5bc-fd74-4a57-94c5-0d56d6a429b1",
   "metadata": {},
   "source": [
    "#### 18. Create a DataFrame from np.arange(12).reshape(3, 4)."
   ]
  },
  {
   "cell_type": "code",
   "execution_count": 123,
   "id": "9d5cd834-44d3-48fb-a83e-d85d7fcc2e09",
   "metadata": {},
   "outputs": [
    {
     "data": {
      "text/html": [
       "<div>\n",
       "<style scoped>\n",
       "    .dataframe tbody tr th:only-of-type {\n",
       "        vertical-align: middle;\n",
       "    }\n",
       "\n",
       "    .dataframe tbody tr th {\n",
       "        vertical-align: top;\n",
       "    }\n",
       "\n",
       "    .dataframe thead th {\n",
       "        text-align: right;\n",
       "    }\n",
       "</style>\n",
       "<table border=\"1\" class=\"dataframe\">\n",
       "  <thead>\n",
       "    <tr style=\"text-align: right;\">\n",
       "      <th></th>\n",
       "      <th>A</th>\n",
       "      <th>B</th>\n",
       "      <th>C</th>\n",
       "      <th>D</th>\n",
       "    </tr>\n",
       "  </thead>\n",
       "  <tbody>\n",
       "    <tr>\n",
       "      <th>0</th>\n",
       "      <td>0</td>\n",
       "      <td>1</td>\n",
       "      <td>2</td>\n",
       "      <td>3</td>\n",
       "    </tr>\n",
       "    <tr>\n",
       "      <th>1</th>\n",
       "      <td>4</td>\n",
       "      <td>5</td>\n",
       "      <td>6</td>\n",
       "      <td>7</td>\n",
       "    </tr>\n",
       "    <tr>\n",
       "      <th>2</th>\n",
       "      <td>8</td>\n",
       "      <td>9</td>\n",
       "      <td>10</td>\n",
       "      <td>11</td>\n",
       "    </tr>\n",
       "  </tbody>\n",
       "</table>\n",
       "</div>"
      ],
      "text/plain": [
       "   A  B   C   D\n",
       "0  0  1   2   3\n",
       "1  4  5   6   7\n",
       "2  8  9  10  11"
      ]
     },
     "execution_count": 123,
     "metadata": {},
     "output_type": "execute_result"
    }
   ],
   "source": [
    "df18 = pd.DataFrame(np.arange(12).reshape(3,4), columns=['A', 'B', 'C', 'D'])\n",
    "df18"
   ]
  },
  {
   "cell_type": "markdown",
   "id": "da4cbf68-8bb4-4902-9771-cd864dae4dfd",
   "metadata": {},
   "source": [
    "#### 19. Access the last row of the numpy-generated DataFrame."
   ]
  },
  {
   "cell_type": "code",
   "execution_count": 126,
   "id": "81d4c56c-97ad-4c2a-9cc3-a38dd5f3c8b7",
   "metadata": {},
   "outputs": [
    {
     "data": {
      "text/plain": [
       "A     8\n",
       "B     9\n",
       "C    10\n",
       "D    11\n",
       "Name: 2, dtype: int32"
      ]
     },
     "execution_count": 126,
     "metadata": {},
     "output_type": "execute_result"
    }
   ],
   "source": [
    "last_row = df18.iloc[-1]\n",
    "last_row"
   ]
  },
  {
   "cell_type": "markdown",
   "id": "2b455a7b-f90f-4951-8cc6-8a2e8bc95fec",
   "metadata": {},
   "source": [
    "#### 20. Convert the DataFrame to a numpy array back."
   ]
  },
  {
   "cell_type": "code",
   "execution_count": 129,
   "id": "e139ede0-06ba-4ec3-a315-84c8f1eb1d96",
   "metadata": {},
   "outputs": [
    {
     "data": {
      "text/plain": [
       "array([[ 0,  1,  2,  3],\n",
       "       [ 4,  5,  6,  7],\n",
       "       [ 8,  9, 10, 11]])"
      ]
     },
     "execution_count": 129,
     "metadata": {},
     "output_type": "execute_result"
    }
   ],
   "source": [
    "array_back = df18.to_numpy()\n",
    "array_back"
   ]
  },
  {
   "cell_type": "markdown",
   "id": "b853f203-1ed1-4d67-b03d-1de9166c5d0a",
   "metadata": {},
   "source": [
    "## 🔹 Mixed Tasks"
   ]
  },
  {
   "cell_type": "markdown",
   "id": "9b75aecd-655e-4672-a17a-b9ce98f58850",
   "metadata": {},
   "source": [
    "#### 21. Create an empty DataFrame and then add a column."
   ]
  },
  {
   "cell_type": "code",
   "execution_count": 135,
   "id": "60efe2b7-457b-4156-b7cd-871f204d9ea7",
   "metadata": {},
   "outputs": [
    {
     "data": {
      "text/html": [
       "<div>\n",
       "<style scoped>\n",
       "    .dataframe tbody tr th:only-of-type {\n",
       "        vertical-align: middle;\n",
       "    }\n",
       "\n",
       "    .dataframe tbody tr th {\n",
       "        vertical-align: top;\n",
       "    }\n",
       "\n",
       "    .dataframe thead th {\n",
       "        text-align: right;\n",
       "    }\n",
       "</style>\n",
       "<table border=\"1\" class=\"dataframe\">\n",
       "  <thead>\n",
       "    <tr style=\"text-align: right;\">\n",
       "      <th></th>\n",
       "      <th>Col1</th>\n",
       "    </tr>\n",
       "  </thead>\n",
       "  <tbody>\n",
       "    <tr>\n",
       "      <th>0</th>\n",
       "      <td>1</td>\n",
       "    </tr>\n",
       "    <tr>\n",
       "      <th>1</th>\n",
       "      <td>2</td>\n",
       "    </tr>\n",
       "    <tr>\n",
       "      <th>2</th>\n",
       "      <td>3</td>\n",
       "    </tr>\n",
       "  </tbody>\n",
       "</table>\n",
       "</div>"
      ],
      "text/plain": [
       "   Col1\n",
       "0     1\n",
       "1     2\n",
       "2     3"
      ]
     },
     "execution_count": 135,
     "metadata": {},
     "output_type": "execute_result"
    }
   ],
   "source": [
    "df21 = pd.DataFrame()\n",
    "df21['Col1'] = [1, 2, 3]\n",
    "df21"
   ]
  },
  {
   "cell_type": "markdown",
   "id": "7815b129-b0ce-448c-95fa-6e4812771254",
   "metadata": {},
   "source": [
    "#### 22. Create a DataFrame from a list of tuples with column names."
   ]
  },
  {
   "cell_type": "code",
   "execution_count": 138,
   "id": "f06563bb-d4f1-46aa-8faa-40a42f7a0035",
   "metadata": {},
   "outputs": [
    {
     "data": {
      "text/html": [
       "<div>\n",
       "<style scoped>\n",
       "    .dataframe tbody tr th:only-of-type {\n",
       "        vertical-align: middle;\n",
       "    }\n",
       "\n",
       "    .dataframe tbody tr th {\n",
       "        vertical-align: top;\n",
       "    }\n",
       "\n",
       "    .dataframe thead th {\n",
       "        text-align: right;\n",
       "    }\n",
       "</style>\n",
       "<table border=\"1\" class=\"dataframe\">\n",
       "  <thead>\n",
       "    <tr style=\"text-align: right;\">\n",
       "      <th></th>\n",
       "      <th>ID</th>\n",
       "      <th>Name</th>\n",
       "    </tr>\n",
       "  </thead>\n",
       "  <tbody>\n",
       "    <tr>\n",
       "      <th>0</th>\n",
       "      <td>1</td>\n",
       "      <td>Alice</td>\n",
       "    </tr>\n",
       "    <tr>\n",
       "      <th>1</th>\n",
       "      <td>2</td>\n",
       "      <td>Bob</td>\n",
       "    </tr>\n",
       "  </tbody>\n",
       "</table>\n",
       "</div>"
      ],
      "text/plain": [
       "   ID   Name\n",
       "0   1  Alice\n",
       "1   2    Bob"
      ]
     },
     "execution_count": 138,
     "metadata": {},
     "output_type": "execute_result"
    }
   ],
   "source": [
    "data22 = [(1, 'Alice'), (2, 'Bob')]\n",
    "df22 = pd.DataFrame(data22, columns=['ID', 'Name'])\n",
    "df22"
   ]
  },
  {
   "cell_type": "markdown",
   "id": "f5cc10c1-de7f-4165-bf6c-3c11b0d04869",
   "metadata": {},
   "source": [
    "#### 23. Create a DataFrame from a scalar value repeated for 5 rows and 2 columns."
   ]
  },
  {
   "cell_type": "code",
   "execution_count": 141,
   "id": "83f3d18b-dd55-4d47-ab03-5a6743a8c797",
   "metadata": {},
   "outputs": [
    {
     "data": {
      "text/html": [
       "<div>\n",
       "<style scoped>\n",
       "    .dataframe tbody tr th:only-of-type {\n",
       "        vertical-align: middle;\n",
       "    }\n",
       "\n",
       "    .dataframe tbody tr th {\n",
       "        vertical-align: top;\n",
       "    }\n",
       "\n",
       "    .dataframe thead th {\n",
       "        text-align: right;\n",
       "    }\n",
       "</style>\n",
       "<table border=\"1\" class=\"dataframe\">\n",
       "  <thead>\n",
       "    <tr style=\"text-align: right;\">\n",
       "      <th></th>\n",
       "      <th>A</th>\n",
       "      <th>B</th>\n",
       "    </tr>\n",
       "  </thead>\n",
       "  <tbody>\n",
       "    <tr>\n",
       "      <th>0</th>\n",
       "      <td>5</td>\n",
       "      <td>5</td>\n",
       "    </tr>\n",
       "    <tr>\n",
       "      <th>1</th>\n",
       "      <td>5</td>\n",
       "      <td>5</td>\n",
       "    </tr>\n",
       "    <tr>\n",
       "      <th>2</th>\n",
       "      <td>5</td>\n",
       "      <td>5</td>\n",
       "    </tr>\n",
       "    <tr>\n",
       "      <th>3</th>\n",
       "      <td>5</td>\n",
       "      <td>5</td>\n",
       "    </tr>\n",
       "    <tr>\n",
       "      <th>4</th>\n",
       "      <td>5</td>\n",
       "      <td>5</td>\n",
       "    </tr>\n",
       "  </tbody>\n",
       "</table>\n",
       "</div>"
      ],
      "text/plain": [
       "   A  B\n",
       "0  5  5\n",
       "1  5  5\n",
       "2  5  5\n",
       "3  5  5\n",
       "4  5  5"
      ]
     },
     "execution_count": 141,
     "metadata": {},
     "output_type": "execute_result"
    }
   ],
   "source": [
    "df23 = pd.DataFrame(5, index=range(5), columns=['A', 'B'])\n",
    "df23"
   ]
  },
  {
   "cell_type": "markdown",
   "id": "5aa16d61-d2ae-47bd-ac9f-d5014aa90ab1",
   "metadata": {},
   "source": [
    "#### 24. Create a DataFrame using dictionary with Series as values."
   ]
  },
  {
   "cell_type": "code",
   "execution_count": 144,
   "id": "e8f3fe7b-0b7e-4b57-9f98-686263934650",
   "metadata": {},
   "outputs": [
    {
     "data": {
      "text/html": [
       "<div>\n",
       "<style scoped>\n",
       "    .dataframe tbody tr th:only-of-type {\n",
       "        vertical-align: middle;\n",
       "    }\n",
       "\n",
       "    .dataframe tbody tr th {\n",
       "        vertical-align: top;\n",
       "    }\n",
       "\n",
       "    .dataframe thead th {\n",
       "        text-align: right;\n",
       "    }\n",
       "</style>\n",
       "<table border=\"1\" class=\"dataframe\">\n",
       "  <thead>\n",
       "    <tr style=\"text-align: right;\">\n",
       "      <th></th>\n",
       "      <th>X</th>\n",
       "      <th>Y</th>\n",
       "    </tr>\n",
       "  </thead>\n",
       "  <tbody>\n",
       "    <tr>\n",
       "      <th>0</th>\n",
       "      <td>1</td>\n",
       "      <td>4</td>\n",
       "    </tr>\n",
       "    <tr>\n",
       "      <th>1</th>\n",
       "      <td>2</td>\n",
       "      <td>5</td>\n",
       "    </tr>\n",
       "    <tr>\n",
       "      <th>2</th>\n",
       "      <td>3</td>\n",
       "      <td>6</td>\n",
       "    </tr>\n",
       "  </tbody>\n",
       "</table>\n",
       "</div>"
      ],
      "text/plain": [
       "   X  Y\n",
       "0  1  4\n",
       "1  2  5\n",
       "2  3  6"
      ]
     },
     "execution_count": 144,
     "metadata": {},
     "output_type": "execute_result"
    }
   ],
   "source": [
    "df24 = pd.DataFrame({\n",
    "    'X': pd.Series([1, 2, 3]),\n",
    "    'Y': pd.Series([4, 5, 6])\n",
    "})\n",
    "df24"
   ]
  },
  {
   "cell_type": "markdown",
   "id": "5fc80248-2b55-4519-9cb3-323d5026a8d4",
   "metadata": {},
   "source": [
    "#### 25. Create a DataFrame using .from_dict() method with orient='index'."
   ]
  },
  {
   "cell_type": "code",
   "execution_count": 147,
   "id": "66d8af0c-46ce-4de3-bc3f-794e6c1e7aae",
   "metadata": {},
   "outputs": [
    {
     "data": {
      "text/html": [
       "<div>\n",
       "<style scoped>\n",
       "    .dataframe tbody tr th:only-of-type {\n",
       "        vertical-align: middle;\n",
       "    }\n",
       "\n",
       "    .dataframe tbody tr th {\n",
       "        vertical-align: top;\n",
       "    }\n",
       "\n",
       "    .dataframe thead th {\n",
       "        text-align: right;\n",
       "    }\n",
       "</style>\n",
       "<table border=\"1\" class=\"dataframe\">\n",
       "  <thead>\n",
       "    <tr style=\"text-align: right;\">\n",
       "      <th></th>\n",
       "      <th>A</th>\n",
       "      <th>B</th>\n",
       "    </tr>\n",
       "  </thead>\n",
       "  <tbody>\n",
       "    <tr>\n",
       "      <th>row1</th>\n",
       "      <td>1</td>\n",
       "      <td>2</td>\n",
       "    </tr>\n",
       "    <tr>\n",
       "      <th>row2</th>\n",
       "      <td>3</td>\n",
       "      <td>4</td>\n",
       "    </tr>\n",
       "  </tbody>\n",
       "</table>\n",
       "</div>"
      ],
      "text/plain": [
       "      A  B\n",
       "row1  1  2\n",
       "row2  3  4"
      ]
     },
     "execution_count": 147,
     "metadata": {},
     "output_type": "execute_result"
    }
   ],
   "source": [
    "data25 = {'row1': {'A': 1, 'B': 2}, 'row2': {'A': 3, 'B': 4}}\n",
    "df25 = pd.DataFrame.from_dict(data25, orient='index')\n",
    "df25"
   ]
  },
  {
   "cell_type": "code",
   "execution_count": null,
   "id": "156af5fe-eb44-4600-8ab6-74ecfbbcf60e",
   "metadata": {},
   "outputs": [],
   "source": []
  },
  {
   "cell_type": "code",
   "execution_count": null,
   "id": "b3be4666-492a-4841-890e-da22ca652425",
   "metadata": {},
   "outputs": [],
   "source": []
  },
  {
   "cell_type": "code",
   "execution_count": null,
   "id": "3543e066-819d-4082-8381-6a21a41d5a1e",
   "metadata": {},
   "outputs": [],
   "source": []
  }
 ],
 "metadata": {
  "kernelspec": {
   "display_name": "Python 3 (ipykernel)",
   "language": "python",
   "name": "python3"
  },
  "language_info": {
   "codemirror_mode": {
    "name": "ipython",
    "version": 3
   },
   "file_extension": ".py",
   "mimetype": "text/x-python",
   "name": "python",
   "nbconvert_exporter": "python",
   "pygments_lexer": "ipython3",
   "version": "3.11.7"
  }
 },
 "nbformat": 4,
 "nbformat_minor": 5
}
