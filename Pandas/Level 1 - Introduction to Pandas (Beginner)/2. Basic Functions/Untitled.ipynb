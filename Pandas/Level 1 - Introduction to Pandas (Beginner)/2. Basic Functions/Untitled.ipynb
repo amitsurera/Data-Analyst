{
 "cells": [
  {
   "cell_type": "code",
   "execution_count": 1,
   "id": "4270101e-68a6-4d7e-9940-ddabf8a20140",
   "metadata": {},
   "outputs": [],
   "source": [
    "import pandas as pd"
   ]
  },
  {
   "cell_type": "code",
   "execution_count": 3,
   "id": "2915a62e-2c62-471a-8bb9-2f8e8fe3f576",
   "metadata": {},
   "outputs": [],
   "source": [
    "url = \"https://raw.githubusercontent.com/CSSEGISandData/COVID-19/master/csse_covid_19_data/csse_covid_19_time_series/time_series_covid19_confirmed_global.csv\"\n",
    "df_covid = pd.read_csv(url)"
   ]
  },
  {
   "cell_type": "code",
   "execution_count": 5,
   "id": "b891a411-8730-44df-bddc-045e48b5b51f",
   "metadata": {},
   "outputs": [],
   "source": [
    "df_covid.to_csv(\"COVID19.csv\", index=False)\n"
   ]
  },
  {
   "cell_type": "code",
   "execution_count": 7,
   "id": "e3c9f6f7-4008-4de0-ac0c-09be74c4f7a9",
   "metadata": {},
   "outputs": [],
   "source": [
    "url = \"https://raw.githubusercontent.com/KeithGalli/complete-pandas-tutorial/master/warmup-data/coffee.csv\"\n",
    "df_coffee_ratings = pd.read_csv(url)\n"
   ]
  },
  {
   "cell_type": "code",
   "execution_count": 9,
   "id": "a2dac1ec-4c43-4dba-bcc4-466b9a585d6d",
   "metadata": {},
   "outputs": [],
   "source": [
    "df_coffee_ratings.to_csv(\"coffee_ratings.csv\", index=False)"
   ]
  },
  {
   "cell_type": "code",
   "execution_count": null,
   "id": "0571cca7-d339-4eb9-bd14-f5d1f7d0d1a4",
   "metadata": {},
   "outputs": [],
   "source": []
  }
 ],
 "metadata": {
  "kernelspec": {
   "display_name": "Python 3 (ipykernel)",
   "language": "python",
   "name": "python3"
  },
  "language_info": {
   "codemirror_mode": {
    "name": "ipython",
    "version": 3
   },
   "file_extension": ".py",
   "mimetype": "text/x-python",
   "name": "python",
   "nbconvert_exporter": "python",
   "pygments_lexer": "ipython3",
   "version": "3.11.7"
  }
 },
 "nbformat": 4,
 "nbformat_minor": 5
}
